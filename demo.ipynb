{
 "cells": [
  {
   "cell_type": "code",
   "execution_count": 1,
   "metadata": {},
   "outputs": [],
   "source": [
    "from nlp_tools.preprocessing import Preprocessing\n",
    "from nlp_tools.loaders import MdLoader\n",
    "from nlp_tools.representations import MergedMatrixRepresentation\n",
    "from nlp_tools.classifiers import ClassificationProcessor, NaiveBayseTfIdfClassifier\n",
    "\n",
    "TRAIN_PATH = './demo_training.md'\n",
    "\n",
    "def build_classifier():\n",
    "    loader = MdLoader(TRAIN_PATH)\n",
    "    processor = Preprocessing(loader)\n",
    "    repres = MergedMatrixRepresentation(processor.data)\n",
    "    classifier = ClassificationProcessor(NaiveBayseTfIdfClassifier(), repres.data)\n",
    "    classifier.train()\n",
    "\n",
    "    def predict(text: str):\n",
    "        message = repres.process_new_data(processor.process_sentence(text))\n",
    "        intent, score = classifier.predict(message)\n",
    "        return intent, score\n",
    "    return predict"
   ]
  },
  {
   "cell_type": "code",
   "execution_count": 2,
   "metadata": {},
   "outputs": [
    {
     "name": "stderr",
     "output_type": "stream",
     "text": [
      "[nltk_data] Downloading package stopwords to\n",
      "[nltk_data]     C:\\Users\\tmarquis\\AppData\\Roaming\\nltk_data...\n",
      "[nltk_data]   Package stopwords is already up-to-date!\n"
     ]
    }
   ],
   "source": [
    "predict = build_classifier()"
   ]
  },
  {
   "cell_type": "code",
   "execution_count": 3,
   "metadata": {},
   "outputs": [
    {
     "data": {
      "text/plain": [
       "('search_movie', 0.5897995302530374)"
      ]
     },
     "execution_count": 3,
     "metadata": {},
     "output_type": "execute_result"
    }
   ],
   "source": [
    "predict('je ne sais pas quoi regarder ce soir')"
   ]
  }
 ],
 "metadata": {
  "kernelspec": {
   "display_name": "Python 3",
   "language": "python",
   "name": "python3"
  },
  "language_info": {
   "codemirror_mode": {
    "name": "ipython",
    "version": 3
   },
   "file_extension": ".py",
   "mimetype": "text/x-python",
   "name": "python",
   "nbconvert_exporter": "python",
   "pygments_lexer": "ipython3",
   "version": "3.7.6"
  }
 },
 "nbformat": 4,
 "nbformat_minor": 4
}
